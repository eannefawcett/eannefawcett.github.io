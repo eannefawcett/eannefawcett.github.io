{
 "cells": [
  {
   "cell_type": "markdown",
   "metadata": {
    "slideshow": {
     "slide_type": "slide"
    }
   },
   "source": [
    "# <center> Continuous Distributions </center>\n",
    "## <center> Normal and Standard Normal</center>"
   ]
  },
  {
   "cell_type": "code",
   "execution_count": 1,
   "metadata": {
    "slideshow": {
     "slide_type": "slide"
    }
   },
   "outputs": [],
   "source": [
    "import numpy as np\n",
    "from scipy import stats\n",
    "import matplotlib.pyplot as plt\n",
    "import seaborn as sns\n",
    "from collections import Counter\n",
    "import pandas as pd\n",
    "from itertools import *"
   ]
  },
  {
   "cell_type": "markdown",
   "metadata": {
    "slideshow": {
     "slide_type": "slide"
    }
   },
   "source": [
    "\n",
    "<tr>\n",
    "    <center>\n",
    "    <td><img src='pmf_one_die.png' width=\"400\" height=\"400\"> </td>\n",
    "    <td><img src='pmf_two_dice.png' width=\"400\" height=\"400\"></td>\n",
    "    <td><img src='pmf_three_dice.png' width=\"400\" height=\"400\"></td>\n",
    "    </center>\n",
    "<tr>\n",
    "    <center>\n",
    "    <td><img src='cdf_one_die.png' width=\"400\" height=\"400\"> </td>\n",
    "    <td><img src='cdf_two_dice.png' width=\"400\" height=\"400\"></td>\n",
    "    <td><img src='cdf_three_dice.png' width=\"400\" height=\"400\"></td>\n",
    "    </center>"
   ]
  },
  {
   "cell_type": "markdown",
   "metadata": {
    "slideshow": {
     "slide_type": "slide"
    }
   },
   "source": [
    "What if our dice has an infinite number of sides?"
   ]
  },
  {
   "cell_type": "markdown",
   "metadata": {
    "slideshow": {
     "slide_type": "fragment"
    }
   },
   "source": [
    "<center><img src='infinite_dice.gif' width='500' height='500'></center>"
   ]
  },
  {
   "cell_type": "markdown",
   "metadata": {
    "slideshow": {
     "slide_type": "slide"
    }
   },
   "source": [
    "Simulating an infinite dice with values 1-6..."
   ]
  },
  {
   "cell_type": "code",
   "execution_count": 2,
   "metadata": {
    "slideshow": {
     "slide_type": "fragment"
    }
   },
   "outputs": [],
   "source": [
    "def infinite_dice_roll():\n",
    "    return(np.random.uniform(1,6))"
   ]
  },
  {
   "cell_type": "code",
   "execution_count": 3,
   "metadata": {
    "slideshow": {
     "slide_type": "fragment"
    }
   },
   "outputs": [
    {
     "data": {
      "text/plain": [
       "5.151360579223052"
      ]
     },
     "execution_count": 3,
     "metadata": {},
     "output_type": "execute_result"
    }
   ],
   "source": [
    "infinite_dice_roll()"
   ]
  },
  {
   "cell_type": "code",
   "execution_count": 4,
   "metadata": {
    "slideshow": {
     "slide_type": "slide"
    }
   },
   "outputs": [],
   "source": [
    "one_die_infinite_rolls=[infinite_dice_roll() for x in range(100)]"
   ]
  },
  {
   "cell_type": "code",
   "execution_count": 5,
   "metadata": {
    "slideshow": {
     "slide_type": "fragment"
    }
   },
   "outputs": [
    {
     "data": {
      "text/plain": [
       "{2.8954607452293897: 1,\n",
       " 1.6538888339322129: 1,\n",
       " 4.005032738439119: 1,\n",
       " 3.6284313957868695: 1,\n",
       " 3.0121402354191202: 1,\n",
       " 4.418482887718051: 1,\n",
       " 4.458288628482395: 1,\n",
       " 5.657890994831464: 1,\n",
       " 3.427297618864159: 1,\n",
       " 4.575314924417112: 1,\n",
       " 3.636002417560702: 1,\n",
       " 5.669583902168962: 1,\n",
       " 2.7613319088117274: 1,\n",
       " 2.1736870184998405: 1,\n",
       " 2.594492096664724: 1,\n",
       " 5.424609337407962: 1,\n",
       " 2.5495585626319746: 1,\n",
       " 4.4189877384001655: 1,\n",
       " 1.7483555289439976: 1,\n",
       " 4.179834591438498: 1,\n",
       " 2.5225144501675887: 1,\n",
       " 3.8347527321853168: 1,\n",
       " 1.7753297569383983: 1,\n",
       " 3.3943863715543796: 1,\n",
       " 3.0222134431553407: 1,\n",
       " 1.8581017903277917: 1,\n",
       " 2.1961733754334336: 1,\n",
       " 2.6485595817931675: 1,\n",
       " 1.9018906344079392: 1,\n",
       " 3.992590914987756: 1,\n",
       " 3.1501986307771777: 1,\n",
       " 4.860012573905797: 1,\n",
       " 4.922495078811663: 1,\n",
       " 4.139607607638446: 1,\n",
       " 5.039380172153733: 1,\n",
       " 5.3308284589752875: 1,\n",
       " 1.2291055537703246: 1,\n",
       " 3.9301150852154345: 1,\n",
       " 4.343843153851223: 1,\n",
       " 3.5623398044498864: 1,\n",
       " 5.935686059743882: 1,\n",
       " 1.7780771270739444: 1,\n",
       " 4.4988868622009335: 1,\n",
       " 4.672195289487603: 1,\n",
       " 3.5868102535120476: 1,\n",
       " 5.547656600328084: 1,\n",
       " 3.992588424427404: 1,\n",
       " 5.863790076587758: 1,\n",
       " 5.947636585616337: 1,\n",
       " 2.9931147337528934: 1,\n",
       " 2.4946501673192385: 1,\n",
       " 3.68446466568518: 1,\n",
       " 5.483841730366479: 1,\n",
       " 2.5685352995595596: 1,\n",
       " 2.851722060462719: 1,\n",
       " 2.3913122101728: 1,\n",
       " 1.8472678891624748: 1,\n",
       " 1.1157219954182835: 1,\n",
       " 1.2781482261074801: 1,\n",
       " 3.269115046005556: 1,\n",
       " 5.884277426603514: 1,\n",
       " 3.7087454274171123: 1,\n",
       " 5.004600933752886: 1,\n",
       " 3.8419941724412907: 1,\n",
       " 1.6817514225144188: 1,\n",
       " 2.6551797935720773: 1,\n",
       " 4.938917059846014: 1,\n",
       " 3.66631350922455: 1,\n",
       " 1.1132237834207577: 1,\n",
       " 2.770014026257489: 1,\n",
       " 4.049659564554418: 1,\n",
       " 1.71124243786082: 1,\n",
       " 2.372654053362376: 1,\n",
       " 4.289291588605007: 1,\n",
       " 5.20053447349294: 1,\n",
       " 3.5804510338894393: 1,\n",
       " 3.497635885580125: 1,\n",
       " 3.9443561230801003: 1,\n",
       " 5.746672295798284: 1,\n",
       " 1.2171280134977671: 1,\n",
       " 4.958829245719446: 1,\n",
       " 3.5164020512553624: 1,\n",
       " 3.97081380321172: 1,\n",
       " 5.638007763086508: 1,\n",
       " 1.4746616521644382: 1,\n",
       " 1.4138568779312708: 1,\n",
       " 1.7420629432106844: 1,\n",
       " 4.090951687124681: 1,\n",
       " 5.0237786619630675: 1,\n",
       " 3.8615838150269353: 1,\n",
       " 2.6142077847261262: 1,\n",
       " 3.5384806274663054: 1,\n",
       " 4.718040432921717: 1,\n",
       " 3.00342072731479: 1,\n",
       " 4.678960398153272: 1,\n",
       " 2.9438502865152567: 1,\n",
       " 5.609679240155161: 1,\n",
       " 1.1296367091910526: 1,\n",
       " 5.1482602808371505: 1,\n",
       " 2.8733800311141637: 1}"
      ]
     },
     "execution_count": 5,
     "metadata": {},
     "output_type": "execute_result"
    }
   ],
   "source": [
    "one_die_infinite_outcomes = dict(Counter(one_die_infinite_rolls))\n",
    "one_die_infinite_outcomes"
   ]
  },
  {
   "cell_type": "markdown",
   "metadata": {
    "slideshow": {
     "slide_type": "slide"
    }
   },
   "source": [
    "How could we calculate the probabilities for each possible value?"
   ]
  },
  {
   "cell_type": "code",
   "execution_count": 6,
   "metadata": {
    "slideshow": {
     "slide_type": "fragment"
    }
   },
   "outputs": [],
   "source": [
    "probs = np.zeros(100)"
   ]
  },
  {
   "cell_type": "markdown",
   "metadata": {
    "slideshow": {
     "slide_type": "slide"
    }
   },
   "source": [
    "### <center>The probability of a continuous random variable at any specific value is zero."
   ]
  },
  {
   "cell_type": "code",
   "execution_count": 7,
   "metadata": {
    "slideshow": {
     "slide_type": "slide"
    }
   },
   "outputs": [
    {
     "data": {
      "text/plain": [
       "Text(0.5, 0, 'Roll')"
      ]
     },
     "execution_count": 7,
     "metadata": {},
     "output_type": "execute_result"
    },
    {
     "data": {
      "image/png": "[encoded data removed]",
      "text/plain": [
       "<Figure size 432x288 with 1 Axes>"
      ]
     },
     "metadata": {
      "needs_background": "light"
     },
     "output_type": "display_data"
    }
   ],
   "source": [
    "plt.plot(one_die_infinite_rolls, probs)\n",
    "plt.title('One Infinite Die Roll')\n",
    "plt.xlabel('Roll')"
   ]
  },
  {
   "cell_type": "markdown",
   "metadata": {
    "slideshow": {
     "slide_type": "slide"
    }
   },
   "source": [
    "Using a distribution plot."
   ]
  },
  {
   "cell_type": "code",
   "execution_count": 8,
   "metadata": {
    "slideshow": {
     "slide_type": "fragment"
    }
   },
   "outputs": [
    {
     "data": {
      "text/plain": [
       "Text(0.5, 0, 'Roll')"
      ]
     },
     "execution_count": 8,
     "metadata": {},
     "output_type": "execute_result"
    },
    {
     "data": {
      "image/png": "[encoded data removed]",
      "text/plain": [
       "<Figure size 432x288 with 1 Axes>"
      ]
     },
     "metadata": {
      "needs_background": "light"
     },
     "output_type": "display_data"
    }
   ],
   "source": [
    "sns.distplot(one_die_infinite_rolls)\n",
    "plt.title('One Infinite Die Roll')\n",
    "plt.xlabel('Roll')"
   ]
  },
  {
   "cell_type": "markdown",
   "metadata": {
    "slideshow": {
     "slide_type": "slide"
    }
   },
   "source": [
    "Now for two and three infinite dice."
   ]
  },
  {
   "cell_type": "code",
   "execution_count": 9,
   "metadata": {
    "slideshow": {
     "slide_type": "fragment"
    }
   },
   "outputs": [],
   "source": [
    "two_dice_infinite_rolls=[infinite_dice_roll()+infinite_dice_roll() for x in range(100)]\n",
    "three_dice_infinite_rolls=[infinite_dice_roll()+infinite_dice_roll()+infinite_dice_roll() for x in range(100)]"
   ]
  },
  {
   "cell_type": "markdown",
   "metadata": {
    "slideshow": {
     "slide_type": "slide"
    }
   },
   "source": [
    "Scatter plots."
   ]
  },
  {
   "cell_type": "code",
   "execution_count": 10,
   "metadata": {
    "slideshow": {
     "slide_type": "slide"
    }
   },
   "outputs": [
    {
     "data": {
      "image/png": "[encoded data removed]",
      "text/plain": [
       "<Figure size 432x288 with 1 Axes>"
      ]
     },
     "metadata": {
      "needs_background": "light"
     },
     "output_type": "display_data"
    },
    {
     "data": {
      "text/plain": [
       "Text(0.5, 0, 'Roll sum')"
      ]
     },
     "execution_count": 10,
     "metadata": {},
     "output_type": "execute_result"
    },
    {
     "data": {
      "image/png": "[encoded data removed]",
      "text/plain": [
       "<Figure size 432x288 with 1 Axes>"
      ]
     },
     "metadata": {
      "needs_background": "light"
     },
     "output_type": "display_data"
    }
   ],
   "source": [
    "plt.plot(two_dice_infinite_rolls, probs)\n",
    "plt.title('Two Infinite Dice Roll')\n",
    "plt.xlabel('Roll sum')\n",
    "plt.show()\n",
    "plt.plot(three_dice_infinite_rolls, probs)\n",
    "plt.title('Three Infinite Dice Roll')\n",
    "plt.xlabel('Roll sum')"
   ]
  },
  {
   "cell_type": "markdown",
   "metadata": {
    "slideshow": {
     "slide_type": "slide"
    }
   },
   "source": [
    "And distribution plots. "
   ]
  },
  {
   "cell_type": "code",
   "execution_count": 12,
   "metadata": {
    "slideshow": {
     "slide_type": "slide"
    }
   },
   "outputs": [
    {
     "data": {
      "image/png": "[encoded data removed]",
      "text/plain": [
       "<Figure size 432x288 with 1 Axes>"
      ]
     },
     "metadata": {
      "needs_background": "light"
     },
     "output_type": "display_data"
    },
    {
     "data": {
      "image/png": "[encoded data removed]",
      "text/plain": [
       "<Figure size 432x288 with 1 Axes>"
      ]
     },
     "metadata": {
      "needs_background": "light"
     },
     "output_type": "display_data"
    }
   ],
   "source": [
    "sns.distplot(two_dice_infinite_rolls)\n",
    "plt.show()\n",
    "sns.distplot(three_dice_infinite_rolls);"
   ]
  },
  {
   "cell_type": "markdown",
   "metadata": {
    "slideshow": {
     "slide_type": "slide"
    }
   },
   "source": [
    "Now lets increase the number of rolls."
   ]
  },
  {
   "cell_type": "code",
   "execution_count": 13,
   "metadata": {
    "slideshow": {
     "slide_type": "fragment"
    }
   },
   "outputs": [],
   "source": [
    "one_die_infinite_rolls=[infinite_dice_roll() for x in range(10000)]\n",
    "two_dice_infinite_rolls=[infinite_dice_roll()+infinite_dice_roll() for x in range(10000)]\n",
    "three_dice_infinite_rolls=[infinite_dice_roll()+infinite_dice_roll()+infinite_dice_roll() for x in range(10000)]"
   ]
  },
  {
   "cell_type": "markdown",
   "metadata": {
    "slideshow": {
     "slide_type": "slide"
    }
   },
   "source": [
    "Distribution plots."
   ]
  },
  {
   "cell_type": "code",
   "execution_count": 14,
   "metadata": {
    "slideshow": {
     "slide_type": "slide"
    }
   },
   "outputs": [
    {
     "data": {
      "text/plain": [
       "Text(0.5, 0, 'Roll')"
      ]
     },
     "execution_count": 14,
     "metadata": {},
     "output_type": "execute_result"
    },
    {
     "data": {
      "image/png": "[encoded data removed]",
      "text/plain": [
       "<Figure size 432x288 with 1 Axes>"
      ]
     },
     "metadata": {
      "needs_background": "light"
     },
     "output_type": "display_data"
    }
   ],
   "source": [
    "sns.distplot(one_die_infinite_rolls)\n",
    "plt.title('One Infinite Die Roll')\n",
    "plt.xlabel('Roll')"
   ]
  },
  {
   "cell_type": "code",
   "execution_count": 15,
   "metadata": {
    "slideshow": {
     "slide_type": "slide"
    }
   },
   "outputs": [
    {
     "data": {
      "text/plain": [
       "Text(0.5, 0, 'Roll sum')"
      ]
     },
     "execution_count": 15,
     "metadata": {},
     "output_type": "execute_result"
    },
    {
     "data": {
      "image/png": "[encoded data removed]",
      "text/plain": [
       "<Figure size 432x288 with 1 Axes>"
      ]
     },
     "metadata": {
      "needs_background": "light"
     },
     "output_type": "display_data"
    }
   ],
   "source": [
    "sns.distplot(two_dice_infinite_rolls)\n",
    "plt.title('Two Infinite Dice Rolls')\n",
    "plt.xlabel('Roll sum')"
   ]
  },
  {
   "cell_type": "code",
   "execution_count": 16,
   "metadata": {
    "slideshow": {
     "slide_type": "slide"
    }
   },
   "outputs": [
    {
     "data": {
      "text/plain": [
       "Text(0.5, 0, 'Roll sum')"
      ]
     },
     "execution_count": 16,
     "metadata": {},
     "output_type": "execute_result"
    },
    {
     "data": {
      "image/png": "[encoded data removed]",
      "text/plain": [
       "<Figure size 432x288 with 1 Axes>"
      ]
     },
     "metadata": {
      "needs_background": "light"
     },
     "output_type": "display_data"
    }
   ],
   "source": [
    "sns.distplot(three_dice_infinite_rolls)\n",
    "plt.title('Three Infinite Dice Rolls')\n",
    "plt.xlabel('Roll sum')"
   ]
  },
  {
   "cell_type": "markdown",
   "metadata": {
    "slideshow": {
     "slide_type": "slide"
    }
   },
   "source": [
    "<tr>\n",
    "    <center>\n",
    "    <td><img src='pmf_one_die.png' width=\"400\" height=\"400\"> </td>\n",
    "    <td><img src='pmf_two_dice.png' width=\"400\" height=\"400\"></td>\n",
    "    <td><img src='pmf_three_dice.png' width=\"400\" height=\"400\"></td>\n",
    "    </center>\n",
    "<tr>\n",
    "    <center>\n",
    "    <td><img src='pmf_one_die_inf.png' width=\"400\" height=\"400\"> </td>\n",
    "    <td><img src='pmf_two_dice_inf.png' width=\"400\" height=\"400\"></td>\n",
    "    <td><img src='pmf_three_dice_inf.png' width=\"400\" height=\"400\"></td>\n",
    "    </center>"
   ]
  },
  {
   "cell_type": "markdown",
   "metadata": {
    "slideshow": {
     "slide_type": "slide"
    }
   },
   "source": [
    "### Plotting CDF for a continuous random variable"
   ]
  },
  {
   "cell_type": "markdown",
   "metadata": {
    "slideshow": {
     "slide_type": "fragment"
    }
   },
   "source": [
    "Using histograms to bin the continuous values."
   ]
  },
  {
   "cell_type": "code",
   "execution_count": 17,
   "metadata": {
    "slideshow": {
     "slide_type": "slide"
    }
   },
   "outputs": [
    {
     "data": {
      "text/plain": [
       "Text(0.5, 0, 'Roll')"
      ]
     },
     "execution_count": 17,
     "metadata": {},
     "output_type": "execute_result"
    },
    {
     "data": {
      "image/png": "[encoded data removed]",
      "text/plain": [
       "<Figure size 432x288 with 1 Axes>"
      ]
     },
     "metadata": {
      "needs_background": "light"
     },
     "output_type": "display_data"
    }
   ],
   "source": [
    "counts, bin_edges = np.histogram(one_die_infinite_rolls, bins=100)\n",
    "cumulative_probs = np.cumsum(np.divide(counts,10000))\n",
    "plt.plot(bin_edges[1:], cumulative_probs)\n",
    "plt.title('One Infinite Die Roll CDF')\n",
    "plt.xlabel('Roll')"
   ]
  },
  {
   "cell_type": "code",
   "execution_count": 18,
   "metadata": {
    "slideshow": {
     "slide_type": "slide"
    }
   },
   "outputs": [
    {
     "data": {
      "text/plain": [
       "Text(0.5, 0, 'Roll sum')"
      ]
     },
     "execution_count": 18,
     "metadata": {},
     "output_type": "execute_result"
    },
    {
     "data": {
      "image/png": "[encoded data removed]",
      "text/plain": [
       "<Figure size 432x288 with 1 Axes>"
      ]
     },
     "metadata": {
      "needs_background": "light"
     },
     "output_type": "display_data"
    }
   ],
   "source": [
    "counts, bin_edges = np.histogram(two_dice_infinite_rolls, bins=100)\n",
    "cumulative_probs = np.cumsum(np.divide(counts,10000))\n",
    "plt.plot(bin_edges[1:], cumulative_probs)\n",
    "plt.title('Two Infinite Dice Rolls CDF')\n",
    "plt.xlabel('Roll sum')"
   ]
  },
  {
   "cell_type": "code",
   "execution_count": 19,
   "metadata": {
    "slideshow": {
     "slide_type": "slide"
    }
   },
   "outputs": [
    {
     "data": {
      "text/plain": [
       "Text(0.5, 0, 'Roll sum')"
      ]
     },
     "execution_count": 19,
     "metadata": {},
     "output_type": "execute_result"
    },
    {
     "data": {
      "image/png": "[encoded data removed]",
      "text/plain": [
       "<Figure size 432x288 with 1 Axes>"
      ]
     },
     "metadata": {
      "needs_background": "light"
     },
     "output_type": "display_data"
    }
   ],
   "source": [
    "counts, bin_edges = np.histogram(three_dice_infinite_rolls, bins=100)\n",
    "cumulative_probs = np.cumsum(np.divide(counts,10000))\n",
    "plt.plot(bin_edges[1:], cumulative_probs)\n",
    "plt.title('Three Infinite Dice Rolls CDF')\n",
    "plt.xlabel('Roll sum')"
   ]
  },
  {
   "cell_type": "markdown",
   "metadata": {
    "slideshow": {
     "slide_type": "slide"
    }
   },
   "source": [
    "<tr>\n",
    "    <center>\n",
    "    <td><img src='cdf_one_die.png' width=\"400\" height=\"400\"> </td>\n",
    "    <td><img src='cdf_two_dice.png' width=\"400\" height=\"400\"></td>\n",
    "    <td><img src='cdf_three_dice.png' width=\"400\" height=\"400\"></td>\n",
    "    </center>\n",
    "<tr>\n",
    "    <center>\n",
    "    <td><img src='cdf_one_die_inf.png' width=\"400\" height=\"400\"> </td>\n",
    "    <td><img src='cdf_two_dice_inf.png' width=\"400\" height=\"400\"></td>\n",
    "    <td><img src='cdf_three_dice_inf.png' width=\"400\" height=\"400\"></td>\n",
    "    </center>"
   ]
  },
  {
   "cell_type": "markdown",
   "metadata": {
    "slideshow": {
     "slide_type": "slide"
    }
   },
   "source": [
    "Consider rolling 100 infinite dice, 10,000 times.."
   ]
  },
  {
   "cell_type": "code",
   "execution_count": 20,
   "metadata": {
    "slideshow": {
     "slide_type": "slide"
    }
   },
   "outputs": [
    {
     "data": {
      "text/plain": [
       "Text(0.5, 0, 'Roll sum')"
      ]
     },
     "execution_count": 20,
     "metadata": {},
     "output_type": "execute_result"
    },
    {
     "data": {
      "image/png": "[encoded data removed]",
      "text/plain": [
       "<Figure size 432x288 with 1 Axes>"
      ]
     },
     "metadata": {
      "needs_background": "light"
     },
     "output_type": "display_data"
    }
   ],
   "source": [
    "hundred_dice_rolls = []\n",
    "for i in range(10000):\n",
    "    roll_sum = 0\n",
    "    for i in range(100):\n",
    "        roll_sum+=infinite_dice_roll()\n",
    "    hundred_dice_rolls.append(roll_sum)\n",
    "sns.distplot(hundred_dice_rolls)\n",
    "plt.title('One Hundred Infinite Die Rolls')\n",
    "plt.xlabel('Roll sum')"
   ]
  },
  {
   "cell_type": "code",
   "execution_count": 21,
   "metadata": {
    "slideshow": {
     "slide_type": "slide"
    }
   },
   "outputs": [
    {
     "data": {
      "text/plain": [
       "Text(0.5, 0, 'Roll sum')"
      ]
     },
     "execution_count": 21,
     "metadata": {},
     "output_type": "execute_result"
    },
    {
     "data": {
      "image/png": "[encoded data removed]",
      "text/plain": [
       "<Figure size 432x288 with 1 Axes>"
      ]
     },
     "metadata": {
      "needs_background": "light"
     },
     "output_type": "display_data"
    }
   ],
   "source": [
    "counts, bin_edges = np.histogram(hundred_dice_rolls, bins=100)\n",
    "cumulative_probs = np.cumsum(np.divide(counts,10000))\n",
    "plt.plot(bin_edges[1:], cumulative_probs)\n",
    "plt.title('One Hundred Infinite Dice Rolls CDF')\n",
    "plt.xlabel('Roll sum')"
   ]
  },
  {
   "cell_type": "markdown",
   "metadata": {
    "slideshow": {
     "slide_type": "slide"
    }
   },
   "source": [
    "### <center> Central Limit Theorem </center> <br>\n",
    "<center>The sum of a large number of random variables will be approximately normally distributed, regardless of the underlying distribution."
   ]
  },
  {
   "cell_type": "markdown",
   "metadata": {
    "slideshow": {
     "slide_type": "slide"
    }
   },
   "source": [
    "Consider a loaded die..."
   ]
  },
  {
   "cell_type": "code",
   "execution_count": 22,
   "metadata": {
    "slideshow": {
     "slide_type": "fragment"
    }
   },
   "outputs": [],
   "source": [
    "loaded_die = [1,2,3,6,6,6]"
   ]
  },
  {
   "cell_type": "markdown",
   "metadata": {
    "slideshow": {
     "slide_type": "slide"
    }
   },
   "source": [
    "One roll of the loaded die."
   ]
  },
  {
   "cell_type": "code",
   "execution_count": 23,
   "metadata": {
    "slideshow": {
     "slide_type": "fragment"
    }
   },
   "outputs": [
    {
     "data": {
      "text/plain": [
       "Text(0.5, 0, 'Roll')"
      ]
     },
     "execution_count": 23,
     "metadata": {},
     "output_type": "execute_result"
    },
    {
     "data": {
      "image/png": "[encoded data removed]",
      "text/plain": [
       "<Figure size 432x288 with 1 Axes>"
      ]
     },
     "metadata": {
      "needs_background": "light"
     },
     "output_type": "display_data"
    }
   ],
   "source": [
    "rolls = [np.random.choice(loaded_die) for x in range(1000)]\n",
    "sns.distplot(rolls)\n",
    "plt.title('Loaded Die Roll')\n",
    "plt.xlabel('Roll')"
   ]
  },
  {
   "cell_type": "markdown",
   "metadata": {
    "slideshow": {
     "slide_type": "slide"
    }
   },
   "source": [
    "Ten rolls of the loaded die."
   ]
  },
  {
   "cell_type": "code",
   "execution_count": 24,
   "metadata": {
    "slideshow": {
     "slide_type": "fragment"
    }
   },
   "outputs": [
    {
     "data": {
      "text/plain": [
       "Text(0.5, 0, 'Roll sum')"
      ]
     },
     "execution_count": 24,
     "metadata": {},
     "output_type": "execute_result"
    },
    {
     "data": {
      "image/png": "[encoded data removed]",
      "text/plain": [
       "<Figure size 432x288 with 1 Axes>"
      ]
     },
     "metadata": {
      "needs_background": "light"
     },
     "output_type": "display_data"
    }
   ],
   "source": [
    "rolls = [np.random.choice(loaded_die)+np.random.choice(loaded_die)\n",
    "         +np.random.choice(loaded_die)+np.random.choice(loaded_die)\n",
    "         +np.random.choice(loaded_die)+np.random.choice(loaded_die)\n",
    "         +np.random.choice(loaded_die)+np.random.choice(loaded_die)\n",
    "         +np.random.choice(loaded_die)+np.random.choice(loaded_die)for x in range(1000)]\n",
    "sns.distplot(rolls)\n",
    "plt.title('Ten Loaded Die Rolls')\n",
    "plt.xlabel('Roll sum')"
   ]
  },
  {
   "cell_type": "markdown",
   "metadata": {
    "slideshow": {
     "slide_type": "slide"
    }
   },
   "source": [
    "## <center> The Normal Distribution"
   ]
  },
  {
   "cell_type": "markdown",
   "metadata": {
    "slideshow": {
     "slide_type": "fragment"
    }
   },
   "source": [
    "<center><img src='normal_dist.png' height='500' width='500'>"
   ]
  },
  {
   "cell_type": "markdown",
   "metadata": {
    "slideshow": {
     "slide_type": "slide"
    }
   },
   "source": [
    "### <center> Properties"
   ]
  },
  {
   "cell_type": "markdown",
   "metadata": {
    "slideshow": {
     "slide_type": "fragment"
    }
   },
   "source": [
    "Mean = Median = Mode"
   ]
  },
  {
   "cell_type": "markdown",
   "metadata": {
    "slideshow": {
     "slide_type": "fragment"
    }
   },
   "source": [
    "Area under the curve is 1."
   ]
  },
  {
   "cell_type": "markdown",
   "metadata": {
    "slideshow": {
     "slide_type": "fragment"
    }
   },
   "source": [
    "68% of values are within 1 standard deviation of the mean, 𝜇±𝜎 <br> <br>\n",
    "95% of values are within 2 standard deviations of the mean, 𝜇±2𝜎 <br> <br>\n",
    "99.7% of values are within 3 standard deviations of the mean, 𝜇±3𝜎"
   ]
  },
  {
   "cell_type": "markdown",
   "metadata": {
    "slideshow": {
     "slide_type": "fragment"
    }
   },
   "source": [
    "Can be found with the population mean and variance/standard deviation."
   ]
  },
  {
   "cell_type": "markdown",
   "metadata": {
    "slideshow": {
     "slide_type": "slide"
    }
   },
   "source": [
    "<center><img src='norm_dist2.png' height='500' width='500'>"
   ]
  },
  {
   "cell_type": "markdown",
   "metadata": {
    "slideshow": {
     "slide_type": "slide"
    }
   },
   "source": [
    "<center><img src='norm_dist3.jpg' height='500' width='500'>"
   ]
  },
  {
   "cell_type": "markdown",
   "metadata": {
    "slideshow": {
     "slide_type": "slide"
    }
   },
   "source": [
    "A radar is used to measure speeds of cars on a highway. The speeds are normally distributed with a mean of 60 mph and a standard deviation of 10 mph. What is the probability that a car picked at random is travelling 45 mph?"
   ]
  },
  {
   "cell_type": "code",
   "execution_count": 25,
   "metadata": {
    "slideshow": {
     "slide_type": "subslide"
    }
   },
   "outputs": [
    {
     "data": {
      "text/plain": [
       "0.012951759566589175"
      ]
     },
     "execution_count": 25,
     "metadata": {},
     "output_type": "execute_result"
    }
   ],
   "source": [
    "stats.norm(60,10).pdf(45)"
   ]
  },
  {
   "cell_type": "markdown",
   "metadata": {
    "slideshow": {
     "slide_type": "subslide"
    }
   },
   "source": [
    "What is the probability that a car picked at random is travelling 45 mph or less?"
   ]
  },
  {
   "cell_type": "code",
   "execution_count": 26,
   "metadata": {
    "slideshow": {
     "slide_type": "subslide"
    }
   },
   "outputs": [
    {
     "data": {
      "text/plain": [
       "0.06680720126885807"
      ]
     },
     "execution_count": 26,
     "metadata": {},
     "output_type": "execute_result"
    }
   ],
   "source": [
    "stats.norm(60,10).cdf(45)"
   ]
  },
  {
   "cell_type": "markdown",
   "metadata": {
    "slideshow": {
     "slide_type": "slide"
    }
   },
   "source": [
    "Assuming a normal distribution, if 95% of data scientists drink between 7.5 and 15.5 ounces of coffee a day, what is the mean amount of coffee drank by data scientists and what is the standard deviation?\n",
    "\n",
    "Proof for 95% of data is within 2 standard deviations away from the mean."
   ]
  },
  {
   "cell_type": "code",
   "execution_count": 27,
   "metadata": {
    "slideshow": {
     "slide_type": "subslide"
    }
   },
   "outputs": [
    {
     "name": "stdout",
     "output_type": "stream",
     "text": [
      "Mean: 11.5 ounces of coffee\n"
     ]
    }
   ],
   "source": [
    "mean = (7.5 + 15.5)/2\n",
    "print('Mean:',mean, 'ounces of coffee')"
   ]
  },
  {
   "cell_type": "code",
   "execution_count": 28,
   "metadata": {
    "slideshow": {
     "slide_type": "subslide"
    }
   },
   "outputs": [
    {
     "name": "stdout",
     "output_type": "stream",
     "text": [
      "Standard deviation: 2.0\n"
     ]
    }
   ],
   "source": [
    "standard_deviation = (15.5-11.5)/2\n",
    "print('Standard deviation:', standard_deviation)"
   ]
  },
  {
   "cell_type": "markdown",
   "metadata": {
    "slideshow": {
     "slide_type": "subslide"
    }
   },
   "source": [
    "Using the mean and standard deviation, check that 95% of data scientists do indeed drink 7.5 - 15.5 ounces of coffee per day."
   ]
  },
  {
   "cell_type": "code",
   "execution_count": 29,
   "metadata": {
    "slideshow": {
     "slide_type": "subslide"
    }
   },
   "outputs": [
    {
     "data": {
      "text/plain": [
       "0.9544997361036416"
      ]
     },
     "execution_count": 29,
     "metadata": {},
     "output_type": "execute_result"
    }
   ],
   "source": [
    "stats.norm(11.5,2.0).cdf(15.5)-stats.norm(11.5,2.0).cdf(7.5)"
   ]
  },
  {
   "cell_type": "markdown",
   "metadata": {
    "slideshow": {
     "slide_type": "slide"
    }
   },
   "source": [
    "## <center>Standard Normal Distribution"
   ]
  },
  {
   "cell_type": "markdown",
   "metadata": {
    "slideshow": {
     "slide_type": "fragment"
    }
   },
   "source": [
    "<br>\n",
    "<br><center> A normal distribution with <br><br>\n",
    "𝜇 = 0<br><br>\n",
    "𝜎 = 1"
   ]
  },
  {
   "cell_type": "markdown",
   "metadata": {
    "slideshow": {
     "slide_type": "slide"
    }
   },
   "source": [
    "<center>We can convert any normal distribution to a standard normal distribution with the following:  <br><br>\n",
    "Z = (𝑥-𝜇)/𝜎 <br> <br>"
   ]
  },
  {
   "cell_type": "markdown",
   "metadata": {
    "slideshow": {
     "slide_type": "slide"
    }
   },
   "source": [
    "Consider two stocks, Stock A and Stock B. In terms of closing prices over the last couple years, Stock A has had a mean price of 12.75 with a standard deviation of 1.5 and Stock B has had a mean price of 5.30 with a standard deviation of 1.15. <br><br>\n",
    "If the current stock prices are 10.50 for Stock A and 4.50 for Stock B, which stock would be the better deal currently?"
   ]
  },
  {
   "cell_type": "code",
   "execution_count": 30,
   "metadata": {
    "slideshow": {
     "slide_type": "slide"
    }
   },
   "outputs": [
    {
     "name": "stdout",
     "output_type": "stream",
     "text": [
      "Stock A Z-score\n"
     ]
    },
    {
     "data": {
      "text/plain": [
       "-1.5"
      ]
     },
     "execution_count": 30,
     "metadata": {},
     "output_type": "execute_result"
    }
   ],
   "source": [
    "print('Stock A Z-score')\n",
    "(10.50-12.75)/1.5"
   ]
  },
  {
   "cell_type": "code",
   "execution_count": 31,
   "metadata": {
    "slideshow": {
     "slide_type": "fragment"
    }
   },
   "outputs": [
    {
     "name": "stdout",
     "output_type": "stream",
     "text": [
      "Stock B Z-score\n"
     ]
    },
    {
     "data": {
      "text/plain": [
       "-0.5333333333333332"
      ]
     },
     "execution_count": 31,
     "metadata": {},
     "output_type": "execute_result"
    }
   ],
   "source": [
    "print('Stock B Z-score')\n",
    "(4.5-5.30)/1.5"
   ]
  },
  {
   "cell_type": "markdown",
   "metadata": {
    "slideshow": {
     "slide_type": "slide"
    }
   },
   "source": [
    "Z-score when dealing with samples."
   ]
  },
  {
   "cell_type": "markdown",
   "metadata": {
    "slideshow": {
     "slide_type": "slide"
    }
   },
   "source": [
    "The average number of scoops of ice cream sold by employees at Scoops Ahoy is 15 per hour with a standard deviation of 3. <br> <br>\n",
    "Steve worked for 6 hours and averaged 18 scoops sold per hour. <br> <br>\n",
    "What percent of employees did he do better than in selling scoops?\n"
   ]
  },
  {
   "cell_type": "markdown",
   "metadata": {
    "slideshow": {
     "slide_type": "slide"
    }
   },
   "source": [
    "<center><img src='z_test.jpg'>"
   ]
  },
  {
   "cell_type": "code",
   "execution_count": 33,
   "metadata": {
    "slideshow": {
     "slide_type": "fragment"
    }
   },
   "outputs": [],
   "source": [
    "x = 18\n",
    "mean = 15\n",
    "standard_deviation =  3\n",
    "n = 6"
   ]
  },
  {
   "cell_type": "code",
   "execution_count": 34,
   "metadata": {
    "slideshow": {
     "slide_type": "fragment"
    }
   },
   "outputs": [
    {
     "data": {
      "text/plain": [
       "2.449489742783178"
      ]
     },
     "execution_count": 34,
     "metadata": {},
     "output_type": "execute_result"
    }
   ],
   "source": [
    "z = (x-mean)/(standard_deviation/np.sqrt(n))\n",
    "z"
   ]
  },
  {
   "cell_type": "code",
   "execution_count": 35,
   "metadata": {
    "slideshow": {
     "slide_type": "subslide"
    }
   },
   "outputs": [
    {
     "data": {
      "text/plain": [
       "0.9928470607822851"
      ]
     },
     "execution_count": 35,
     "metadata": {},
     "output_type": "execute_result"
    }
   ],
   "source": [
    "stats.norm(0,1).cdf(z)"
   ]
  },
  {
   "cell_type": "markdown",
   "metadata": {
    "slideshow": {
     "slide_type": "slide"
    }
   },
   "source": [
    "## <center> Activity"
   ]
  },
  {
   "cell_type": "markdown",
   "metadata": {
    "slideshow": {
     "slide_type": "fragment"
    }
   },
   "source": [
    "1) The average amount spent per order at Scoops Ahoy is 6.45 with a standard deviation of 2.35. What is the probability that the next customer will spend 7.50 or more?"
   ]
  },
  {
   "cell_type": "code",
   "execution_count": 40,
   "metadata": {},
   "outputs": [
    {
     "data": {
      "text/plain": [
       "0.3275066629351384"
      ]
     },
     "execution_count": 40,
     "metadata": {},
     "output_type": "execute_result"
    }
   ],
   "source": [
    "1-(stats.norm(6.45,2.35).cdf(7.50))"
   ]
  },
  {
   "cell_type": "markdown",
   "metadata": {
    "slideshow": {
     "slide_type": "fragment"
    }
   },
   "source": [
    "2) The newest scoop flavor is a little inconsistent in terms of sweetness. About 99.7% of the time, one cup of the new flavor will have 32 - 48 grams of sugar. What is the average amount of sugar per cup and what is the standard deviation? What is the probability that you order a scoop and it has between 50 and 60 grams of sugar?"
   ]
  },
  {
   "cell_type": "code",
   "execution_count": 43,
   "metadata": {},
   "outputs": [
    {
     "name": "stdout",
     "output_type": "stream",
     "text": [
      "mean:40.0\n",
      "standard deviation:2.6666666666666665\n"
     ]
    },
    {
     "data": {
      "text/plain": [
       "9.865558370236727e-10"
      ]
     },
     "execution_count": 43,
     "metadata": {},
     "output_type": "execute_result"
    }
   ],
   "source": [
    "# 99.7% is for 3 standard deviations away\n",
    "high = 48\n",
    "low = 32\n",
    "mean = (high + low) / 2\n",
    "print('mean:' + str(mean))\n",
    "std = (high - mean) / 3\n",
    "print('standard deviation:' + str(std))\n",
    "probability_60_50 = stats.norm(mean,std).cdf(60)-stats.norm(32,3).cdf(50)\n",
    "probability_60_50\n",
    "# solve for mean and standard deviations\n",
    "# solve for probability of between 60 and 50"
   ]
  },
  {
   "cell_type": "markdown",
   "metadata": {
    "slideshow": {
     "slide_type": "fragment"
    }
   },
   "source": [
    "3) The average viewer count for a season of a Netflix show is 12 million with a standard deviation of 5 million. Stranger Things had an average view count of 20 million across three seasons. What percentage of shows does Stranger Things beat in terms of viewer count?"
   ]
  },
  {
   "cell_type": "code",
   "execution_count": 48,
   "metadata": {},
   "outputs": [
    {
     "name": "stdout",
     "output_type": "stream",
     "text": [
      "0.8221944694523804\n"
     ]
    },
    {
     "data": {
      "text/plain": [
       "0.945200708300442"
      ]
     },
     "execution_count": 48,
     "metadata": {},
     "output_type": "execute_result"
    }
   ],
   "source": [
    "import math\n",
    "avg = 12000000\n",
    "std = 5000000\n",
    "stranger = 20000000\n",
    "n = 3\n",
    "\n",
    "z_score = ((stranger - avg) / std)/math.sqrt(3)\n",
    "print(stats.norm(0,1).cdf(z_score))\n",
    "stats.norm(avg,std).cdf(stranger)"
   ]
  },
  {
   "cell_type": "code",
   "execution_count": 49,
   "metadata": {},
   "outputs": [
    {
     "data": {
      "text/plain": [
       "1.0"
      ]
     },
     "execution_count": 49,
     "metadata": {},
     "output_type": "execute_result"
    }
   ],
   "source": [
    "stats.norm(0,1).cdf(stranger/n)"
   ]
  },
  {
   "cell_type": "code",
   "execution_count": null,
   "metadata": {},
   "outputs": [],
   "source": []
  }
 ],
 "metadata": {
  "celltoolbar": "Slideshow",
  "kernelspec": {
   "display_name": "Python 3",
   "language": "python",
   "name": "python3"
  },
  "language_info": {
   "codemirror_mode": {
    "name": "ipython",
    "version": 3
   },
   "file_extension": ".py",
   "mimetype": "text/x-python",
   "name": "python",
   "nbconvert_exporter": "python",
   "pygments_lexer": "ipython3",
   "version": "3.7.4"
  }
 },
 "nbformat": 4,
 "nbformat_minor": 2
}
