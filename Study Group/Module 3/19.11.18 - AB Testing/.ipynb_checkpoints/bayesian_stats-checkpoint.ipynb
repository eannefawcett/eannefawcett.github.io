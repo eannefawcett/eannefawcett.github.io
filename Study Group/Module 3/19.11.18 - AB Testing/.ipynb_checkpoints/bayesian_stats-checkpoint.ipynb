{
 "cells": [
  {
   "cell_type": "markdown",
   "metadata": {
    "slideshow": {
     "slide_type": "slide"
    }
   },
   "source": [
    "# Bayesian Stats\n",
    "* Why does prior probability matter? "
   ]
  },
  {
   "attachments": {},
   "cell_type": "markdown",
   "metadata": {
    "slideshow": {
     "slide_type": "slide"
    }
   },
   "source": [
    "# Bayes Formula\n",
    "\n",
    "**P(X|Y) = Probability of X, given Y.**\n",
    "\n",
    "![](images/bayes-formula.png)"
   ]
  },
  {
   "cell_type": "markdown",
   "metadata": {
    "slideshow": {
     "slide_type": "slide"
    }
   },
   "source": [
    "### Question\n",
    "Suppose we have two urns: urn A containing 6 red and 4 green marbles, and urn B containing 9 red and 1 green.\n",
    "\n",
    "(a) We take one marble at random from urn A and put it in urn B. We then take a\n",
    "marble from urn B, look at it, and it is red. What is the probability we took a red\n",
    "marble from urn A?\n",
    "\n",
    "(b) We repeat the process, but this time we do not look at the marble we draw from\n",
    "urn B - we put it into urn A so that each has 10 marbles again. We now draw\n",
    "a marble from urn A. What is the probability it is red? If it is red, what is the\n",
    "probability that both of the exchanged marbles were red?"
   ]
  },
  {
   "cell_type": "markdown",
   "metadata": {
    "slideshow": {
     "slide_type": "slide"
    }
   },
   "source": [
    "Suppose we have two urns: urn A containing 6 red and 4 green marbles, and urn B containing 9 red and 1 green.\n",
    "\n",
    "(a) We take one marble at random from urn A and put it in urn B. We then take a marble from urn B, look at it, and it is red. What is the probability we looked at the marble from urn A?\n",
    "\n",
    "Solution:\n",
    "\n",
    "$$\\text{P(marble from A | red)} = \\frac{\\text{P(red| marble from A)P(red from B}}{\\text{P(marble from A)}}$$\n",
    "\n",
    "$$\\text{P(red marble from A | red from B)} = \\frac{\\text{(0.60)(0.8181...)}}{\\text{(0.0909...)}}$$\n",
    "\n",
    "$$\\text{P(red marble from A | red from B)} = \\text("
   ]
  }
 ],
 "metadata": {
  "celltoolbar": "Slideshow",
  "kernelspec": {
   "display_name": "Python [conda env:flatiron-env] *",
   "language": "python",
   "name": "conda-env-flatiron-env-py"
  },
  "language_info": {
   "codemirror_mode": {
    "name": "ipython",
    "version": 3
   },
   "file_extension": ".py",
   "mimetype": "text/x-python",
   "name": "python",
   "nbconvert_exporter": "python",
   "pygments_lexer": "ipython3",
   "version": "3.6.0"
  },
  "toc": {
   "base_numbering": 1,
   "nav_menu": {},
   "number_sections": true,
   "sideBar": true,
   "skip_h1_title": false,
   "title_cell": "Table of Contents",
   "title_sidebar": "Contents",
   "toc_cell": false,
   "toc_position": {},
   "toc_section_display": true,
   "toc_window_display": false
  }
 },
 "nbformat": 4,
 "nbformat_minor": 2
}
