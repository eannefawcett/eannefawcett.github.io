{
 "cells": [
  {
   "cell_type": "markdown",
   "metadata": {
    "slideshow": {
     "slide_type": "slide"
    }
   },
   "source": [
    "# <center> Hypothesis Testing <br>"
   ]
  },
  {
   "cell_type": "markdown",
   "metadata": {
    "slideshow": {
     "slide_type": "fragment"
    }
   },
   "source": [
    "## <center>One and Two Sample Tests for Means"
   ]
  },
  {
   "cell_type": "markdown",
   "metadata": {
    "slideshow": {
     "slide_type": "slide"
    }
   },
   "source": [
    "## Null Hypothesis (H<sub>0</sub>)"
   ]
  },
  {
   "cell_type": "markdown",
   "metadata": {
    "slideshow": {
     "slide_type": "fragment"
    }
   },
   "source": [
    "No effect or no difference, the opposite of what you're looking to prove"
   ]
  },
  {
   "cell_type": "markdown",
   "metadata": {
    "slideshow": {
     "slide_type": "fragment"
    }
   },
   "source": [
    "## Alternative Hypothesis (H<sub>a</sub>)"
   ]
  },
  {
   "cell_type": "markdown",
   "metadata": {
    "slideshow": {
     "slide_type": "fragment"
    }
   },
   "source": [
    "There is an effect or difference, what you're interested in proving"
   ]
  },
  {
   "cell_type": "markdown",
   "metadata": {
    "slideshow": {
     "slide_type": "slide"
    }
   },
   "source": [
    "### Example"
   ]
  },
  {
   "cell_type": "markdown",
   "metadata": {
    "slideshow": {
     "slide_type": "fragment"
    }
   },
   "source": [
    "<center>Is there a difference in average productivity for a 4 day work week versus a standard 5 day week?"
   ]
  },
  {
   "cell_type": "markdown",
   "metadata": {
    "slideshow": {
     "slide_type": "fragment"
    }
   },
   "source": [
    "### H<sub>0</sub>: Productivity(5 day) - Productivity(4 day) = 0"
   ]
  },
  {
   "cell_type": "markdown",
   "metadata": {
    "slideshow": {
     "slide_type": "fragment"
    }
   },
   "source": [
    "### H<sub>a</sub>: Productivity(5 day) - Productivity(4 day) != 0"
   ]
  },
  {
   "cell_type": "markdown",
   "metadata": {
    "slideshow": {
     "slide_type": "slide"
    }
   },
   "source": [
    "## <center> How do we test our hypotheses?  <br>"
   ]
  },
  {
   "cell_type": "markdown",
   "metadata": {
    "slideshow": {
     "slide_type": "fragment"
    }
   },
   "source": [
    "## <center> p-values"
   ]
  },
  {
   "cell_type": "markdown",
   "metadata": {
    "slideshow": {
     "slide_type": "fragment"
    }
   },
   "source": [
    "<center> The probability of observing a test statistic."
   ]
  },
  {
   "cell_type": "markdown",
   "metadata": {
    "slideshow": {
     "slide_type": "slide"
    }
   },
   "source": [
    "The average number of scoops of ice cream sold by employees at Scoops Ahoy is 15 per hour with a standard deviation of 3. <br> <br>\n",
    "Steve worked for 6 hours and averaged 18 scoops sold per hour."
   ]
  },
  {
   "cell_type": "markdown",
   "metadata": {
    "slideshow": {
     "slide_type": "slide"
    }
   },
   "source": [
    "<img src='z_test.jpg'>"
   ]
  },
  {
   "cell_type": "markdown",
   "metadata": {
    "slideshow": {
     "slide_type": "slide"
    }
   },
   "source": [
    "The average number of scoops of ice cream sold by employees at Scoops Ahoy is 15 per hour with a standard deviation of 3. <br> <br>\n",
    "Steve worked for 6 hours and averaged 18 scoops sold per hour."
   ]
  },
  {
   "cell_type": "code",
   "execution_count": 1,
   "metadata": {
    "slideshow": {
     "slide_type": "slide"
    }
   },
   "outputs": [],
   "source": [
    "import numpy as np \n",
    "from scipy import stats"
   ]
  },
  {
   "cell_type": "code",
   "execution_count": 2,
   "metadata": {
    "slideshow": {
     "slide_type": "slide"
    }
   },
   "outputs": [
    {
     "data": {
      "text/plain": [
       "2.449489742783178"
      ]
     },
     "execution_count": 2,
     "metadata": {},
     "output_type": "execute_result"
    }
   ],
   "source": [
    "x_bar = 18\n",
    "mu = 15\n",
    "sigma = 3\n",
    "n = 6\n",
    "z = (x_bar-mu)/(sigma/np.sqrt(n))\n",
    "z"
   ]
  },
  {
   "cell_type": "code",
   "execution_count": 4,
   "metadata": {
    "slideshow": {
     "slide_type": "slide"
    }
   },
   "outputs": [
    {
     "data": {
      "image/png": "[encoded data removed]",
      "text/plain": [
       "<Figure size 432x288 with 1 Axes>"
      ]
     },
     "metadata": {
      "needs_background": "light"
     },
     "output_type": "display_data"
    }
   ],
   "source": [
    "import matplotlib.pyplot as plt\n",
    "\n",
    "x = np.linspace(-3,3,1000)\n",
    "y = stats.norm.pdf(x, 0, 1)\n",
    "z_ = x[x>z]\n",
    "plt.plot(x, y)\n",
    "plt.fill_between(z_, 0, stats.norm.pdf(z_, 0, 1))\n",
    "plt.vlines(z,0,0.4);\n",
    "# p - value is filled and is the area under the curve"
   ]
  },
  {
   "cell_type": "code",
   "execution_count": 5,
   "metadata": {
    "slideshow": {
     "slide_type": "fragment"
    }
   },
   "outputs": [
    {
     "data": {
      "text/plain": [
       "0.007152939217714871"
      ]
     },
     "execution_count": 5,
     "metadata": {},
     "output_type": "execute_result"
    }
   ],
   "source": [
    "p_value = 1-stats.norm.cdf(z)\n",
    "p_value"
   ]
  },
  {
   "cell_type": "markdown",
   "metadata": {
    "slideshow": {
     "slide_type": "slide"
    }
   },
   "source": [
    "### What the p-value says... <br>"
   ]
  },
  {
   "cell_type": "markdown",
   "metadata": {
    "slideshow": {
     "slide_type": "fragment"
    }
   },
   "source": [
    "<center> If we picked a random employee and observed their performance for 6 hours, there is only a 0.7% chance that they would sell more scoops on average than Steve. <br> <br>"
   ]
  },
  {
   "cell_type": "markdown",
   "metadata": {
    "slideshow": {
     "slide_type": "fragment"
    }
   },
   "source": [
    "<div align='right'> ...so Steve is statistically pretty good at his job. </div>"
   ]
  },
  {
   "cell_type": "markdown",
   "metadata": {
    "slideshow": {
     "slide_type": "slide"
    }
   },
   "source": [
    "## <center> Choosing the appropriate hypothesis test</center>"
   ]
  },
  {
   "cell_type": "markdown",
   "metadata": {
    "slideshow": {
     "slide_type": "slide"
    }
   },
   "source": [
    "<img src='hypothesis_flow_chart.png' height=1500 width=1500>"
   ]
  },
  {
   "cell_type": "markdown",
   "metadata": {
    "slideshow": {
     "slide_type": "fragment"
    }
   },
   "source": [
    "The average annual earnings for an eSports athlete is 45,000 dollars with a standard deviation of 25,000 dollars. A recent study of 15 eSports atheletes found their average annual earnings to be 55,000 dollars. A rising eSports star is trying to decide whether or not to drop out of college and pursue as eSports career. His decision will be swayed over whether or not he could expect to make more than 45,000 dollars a year in eSports. Design a hypothesis test to inform his decision with a 95% confidence level."
   ]
  },
  {
   "cell_type": "markdown",
   "metadata": {
    "slideshow": {
     "slide_type": "fragment"
    }
   },
   "source": [
    "### H<sub>0</sub>: Average Salary = 45,000"
   ]
  },
  {
   "cell_type": "markdown",
   "metadata": {
    "slideshow": {
     "slide_type": "fragment"
    }
   },
   "source": [
    "### H<sub>a</sub>: Average Salary > 45,000"
   ]
  },
  {
   "cell_type": "code",
   "execution_count": 6,
   "metadata": {
    "slideshow": {
     "slide_type": "slide"
    }
   },
   "outputs": [
    {
     "data": {
      "text/plain": [
       "1.5491933384829668"
      ]
     },
     "execution_count": 6,
     "metadata": {},
     "output_type": "execute_result"
    }
   ],
   "source": [
    "alpha = 1-.95\n",
    "x_bar = 55000\n",
    "mu = 45000\n",
    "sigma = 25000\n",
    "n = 15\n",
    "z = (x_bar-mu)/(sigma/np.sqrt(n))\n",
    "z"
   ]
  },
  {
   "cell_type": "code",
   "execution_count": 7,
   "metadata": {
    "slideshow": {
     "slide_type": "slide"
    }
   },
   "outputs": [
    {
     "data": {
      "text/plain": [
       "0.06066762517924107"
      ]
     },
     "execution_count": 7,
     "metadata": {},
     "output_type": "execute_result"
    }
   ],
   "source": [
    "p_value = 1-stats.norm.cdf(z)\n",
    "p_value"
   ]
  },
  {
   "cell_type": "code",
   "execution_count": 8,
   "metadata": {
    "slideshow": {
     "slide_type": "fragment"
    }
   },
   "outputs": [
    {
     "data": {
      "text/plain": [
       "-0.010667625179241025"
      ]
     },
     "execution_count": 8,
     "metadata": {},
     "output_type": "execute_result"
    }
   ],
   "source": [
    "alpha-p_value"
   ]
  },
  {
   "cell_type": "markdown",
   "metadata": {
    "slideshow": {
     "slide_type": "fragment"
    }
   },
   "source": [
    "Because the calculated p-value is greater than the alpha at the given confidence level, we fail to reject the null hypothesis. <br><br>\n",
    "From this we can say that, despite the new study on eSports players, that the average salary of eSports atheletes is statistically unlikely to be greater than 45,000 dollars."
   ]
  },
  {
   "cell_type": "markdown",
   "metadata": {
    "slideshow": {
     "slide_type": "slide"
    }
   },
   "source": [
    "## <center> Two sample T-test"
   ]
  },
  {
   "cell_type": "markdown",
   "metadata": {
    "slideshow": {
     "slide_type": "fragment"
    }
   },
   "source": [
    "League of Legends and DOTA 2 are two similar multiplayer online battle arena games. There is a big debate over which game is better and which one requires more skill. To solve this question, two studies were ran using an IQ test. The first study looked at 55 League of Legends players and found their average IQ to be 116 with a standard deviation of 10. The second study looked at 45 DOTA 2 players and found their average IQ to be 112 with a standard deviation of 12. Assuming a confidence level of 90%, can these studies conclude that one playerbase is more intelligent than the other?"
   ]
  },
  {
   "cell_type": "markdown",
   "metadata": {
    "slideshow": {
     "slide_type": "fragment"
    }
   },
   "source": [
    "### H<sub>0</sub>: LoL IQ = DOTA IQ"
   ]
  },
  {
   "cell_type": "markdown",
   "metadata": {
    "slideshow": {
     "slide_type": "fragment"
    }
   },
   "source": [
    "### H<sub>a</sub>: LoL IQ != DOTA IQ"
   ]
  },
  {
   "cell_type": "markdown",
   "metadata": {
    "slideshow": {
     "slide_type": "slide"
    }
   },
   "source": [
    "t statistic for a 2 tailed t test\n",
    "<img src='t_test.png'>\n",
    "We'll assume that the difference is zero to test for H1"
   ]
  },
  {
   "cell_type": "code",
   "execution_count": 10,
   "metadata": {
    "slideshow": {
     "slide_type": "fragment"
    }
   },
   "outputs": [],
   "source": [
    "alpha = 0.1\n",
    "x_bar1 = 116\n",
    "x_bar2 = 112\n",
    "sigma1 = 10\n",
    "sigma2 = 12\n",
    "n1 = 55\n",
    "n2 = 45\n",
    "mu1 = mu2 = 100\n",
    "dof = n2-1\n",
    "# dof takes the lower n value"
   ]
  },
  {
   "cell_type": "code",
   "execution_count": 11,
   "metadata": {
    "slideshow": {
     "slide_type": "fragment"
    }
   },
   "outputs": [
    {
     "data": {
      "text/plain": [
       "1.7856107630448046"
      ]
     },
     "execution_count": 11,
     "metadata": {},
     "output_type": "execute_result"
    }
   ],
   "source": [
    "t = ((x_bar1-x_bar2) - (mu1-mu2)) / np.sqrt((sigma1**2/n1) + (sigma2**2/n2))\n",
    "t"
   ]
  },
  {
   "cell_type": "code",
   "execution_count": 12,
   "metadata": {
    "slideshow": {
     "slide_type": "slide"
    }
   },
   "outputs": [
    {
     "data": {
      "text/plain": [
       "0.040527902787865666"
      ]
     },
     "execution_count": 12,
     "metadata": {},
     "output_type": "execute_result"
    }
   ],
   "source": [
    "1-stats.t.cdf(t,dof)\n",
    "# different than key word"
   ]
  },
  {
   "cell_type": "markdown",
   "metadata": {
    "slideshow": {
     "slide_type": "slide"
    }
   },
   "source": [
    "## <center> One-tail vs Two-tail"
   ]
  },
  {
   "cell_type": "markdown",
   "metadata": {
    "slideshow": {
     "slide_type": "slide"
    }
   },
   "source": [
    "<img src='hypo_test.jpeg'>"
   ]
  },
  {
   "cell_type": "code",
   "execution_count": 13,
   "metadata": {
    "slideshow": {
     "slide_type": "slide"
    }
   },
   "outputs": [
    {
     "data": {
      "text/plain": [
       "0.08105580557573133"
      ]
     },
     "execution_count": 13,
     "metadata": {},
     "output_type": "execute_result"
    }
   ],
   "source": [
    "two_tail_p_value = (1-stats.t.cdf(t,dof))*2\n",
    "two_tail_p_value"
   ]
  },
  {
   "cell_type": "code",
   "execution_count": 14,
   "metadata": {
    "slideshow": {
     "slide_type": "fragment"
    }
   },
   "outputs": [
    {
     "data": {
      "text/plain": [
       "0.018944194424268673"
      ]
     },
     "execution_count": 14,
     "metadata": {},
     "output_type": "execute_result"
    }
   ],
   "source": [
    "alpha - two_tail_p_value"
   ]
  },
  {
   "cell_type": "markdown",
   "metadata": {
    "slideshow": {
     "slide_type": "fragment"
    }
   },
   "source": [
    "Since the two-tail p-value is less than the chosen alpha level, we can safely reject the null hypothesis and accept the alternative hypothesis."
   ]
  },
  {
   "cell_type": "markdown",
   "metadata": {
    "slideshow": {
     "slide_type": "fragment"
    }
   },
   "source": [
    "Based on these studies, we can conclude that the IQ of League of Legends players is statistically higher than the IQ of DOTA 2 players."
   ]
  },
  {
   "cell_type": "markdown",
   "metadata": {
    "slideshow": {
     "slide_type": "slide"
    }
   },
   "source": [
    "1) Determine the null hypothesis, alternative hypothesis, and whether it will be a one-tail or two-tail test. <br><br>\n",
    "2) Collect and summarize the data into a test statistic.  <br><br>\n",
    "3) Use the test statistic to determine the p-value.  <br><br>\n",
    "4) Compare the p-value to the chosen alpha level. If p-value is less than alpha, reject the null hypothesis, else fail to reject the null-hypothesis."
   ]
  },
  {
   "cell_type": "markdown",
   "metadata": {
    "slideshow": {
     "slide_type": "slide"
    }
   },
   "source": [
    "# <center> Activity"
   ]
  },
  {
   "cell_type": "markdown",
   "metadata": {
    "slideshow": {
     "slide_type": "slide"
    }
   },
   "source": [
    "### 1)\n",
    "A large amount of game data was collected on League of Legends games and can be found in games.csv which is accepted to be an accurate representation of all matches. <br>\n",
    "You suspect that professional matches have a different average game length. You decide to collect data on some professional matches compare their match statistics to see if there is a difference in game length. Those poll results can be found in league_poll_data.csv. <br>\n",
    "Design and complete a hypothesis test to answer this question with a confidence level of 95%. <br>\n",
    "<b>Hint:</b> Make sure your variables are always in the same units."
   ]
  },
  {
   "cell_type": "code",
   "execution_count": 25,
   "metadata": {},
   "outputs": [
    {
     "name": "stdout",
     "output_type": "stream",
     "text": [
      "       gameId   creationTime  gameDuration  seasonId  winner  firstBlood  \\\n",
      "0  3326086514  1504279457970          1949         9       1           2   \n",
      "1  3229566029  1497848803862          1851         9       1           1   \n",
      "2  3327363504  1504360103310          1493         9       1           2   \n",
      "3  3326856598  1504348503996          1758         9       1           1   \n",
      "4  3330080762  1504554410899          2094         9       1           2   \n",
      "\n",
      "   firstTower  firstInhibitor  firstBaron  firstDragon   ...     \\\n",
      "0           1               1           1            1   ...      \n",
      "1           1               1           0            1   ...      \n",
      "2           1               1           1            2   ...      \n",
      "3           1               1           1            1   ...      \n",
      "4           1               1           1            1   ...      \n",
      "\n",
      "   t2_towerKills  t2_inhibitorKills  t2_baronKills  t2_dragonKills  \\\n",
      "0              5                  0              0               1   \n",
      "1              2                  0              0               0   \n",
      "2              2                  0              0               1   \n",
      "3              0                  0              0               0   \n",
      "4              3                  0              0               1   \n",
      "\n",
      "   t2_riftHeraldKills  t2_ban1  t2_ban2  t2_ban3  t2_ban4  t2_ban5  \n",
      "0                   1      114       67       43       16       51  \n",
      "1                   0       11       67      238       51      420  \n",
      "2                   0      157      238      121       57       28  \n",
      "3                   0      164       18      141       40       51  \n",
      "4                   0       86       11      201      122       18  \n",
      "\n",
      "[5 rows x 61 columns]\n",
      "   Game ID  Game Length(minutes)\n",
      "0        1             46.483314\n",
      "1        2             36.476108\n",
      "2        3             25.267589\n",
      "3        4             28.377156\n",
      "4        5             45.339202\n"
     ]
    }
   ],
   "source": [
    "import pandas as pd\n",
    "lol = pd.read_csv('games.csv')\n",
    "print(lol.head())\n",
    "poll = pd.read_csv('league_poll_data.csv')\n",
    "print(poll.head())\n",
    "#H0 = mean of population data for lol\n",
    "#H1 != mean of population data for lol"
   ]
  },
  {
   "cell_type": "code",
   "execution_count": 32,
   "metadata": {},
   "outputs": [],
   "source": [
    "alpha = 0.95\n",
    "x_bar = poll['Game Length(minutes)'].mean()*60 \n",
    "sigma = lol['gameDuration'].std()\n",
    "n1 = len(lol['gameDuration'])\n",
    "mu =  lol['gameDuration'].mean()\n",
    "n = len(poll['Game Length(minutes)'])\n",
    "dof = n1 - 1"
   ]
  },
  {
   "cell_type": "code",
   "execution_count": 33,
   "metadata": {},
   "outputs": [
    {
     "data": {
      "text/plain": [
       "1.9274282316217555"
      ]
     },
     "execution_count": 33,
     "metadata": {},
     "output_type": "execute_result"
    }
   ],
   "source": [
    "z = (x_bar-mu)/(sigma/np.sqrt(n))\n",
    "z"
   ]
  },
  {
   "cell_type": "code",
   "execution_count": 36,
   "metadata": {},
   "outputs": [
    {
     "data": {
      "text/plain": [
       "0.05392628410786404"
      ]
     },
     "execution_count": 36,
     "metadata": {},
     "output_type": "execute_result"
    }
   ],
   "source": [
    "p_value = (1-stats.norm.cdf(z))*2\n",
    "p_value\n",
    "#fail to reject the null"
   ]
  },
  {
   "cell_type": "markdown",
   "metadata": {
    "slideshow": {
     "slide_type": "fragment"
    }
   },
   "source": [
    "### 2)\n",
    "You hypothesize that two different characters in League of Legends have different effects on the average game length. You want to prove that games with the character Nasus last longer on average than games with Teemo with a confidence level of 95%. Use the data in nasus.csv and teemo.csv to complete the appropriate hypothesis test. <br>\n",
    "<b>Hint:</b> Remember that sample standard deviation has a slightly different formula."
   ]
  },
  {
   "cell_type": "code",
   "execution_count": 38,
   "metadata": {},
   "outputs": [
    {
     "name": "stdout",
     "output_type": "stream",
     "text": [
      "       gameId   creationTime  gameDuration  seasonId  winner  firstBlood  \\\n",
      "0  3321629027  1503951928706          2602         9       2           2   \n",
      "1  3326636755  1504314408008          2312         9       2           2   \n",
      "2  3324518365  1504174899067          2862         9       1           2   \n",
      "3  3319805911  1503833415860          2285         9       1           2   \n",
      "4  3326116719  1504282185822          2241         9       2           1   \n",
      "\n",
      "   firstTower  firstInhibitor  firstBaron  firstDragon   ...     \\\n",
      "0           1               2           2            2   ...      \n",
      "1           2               1           2            2   ...      \n",
      "2           1               1           1            1   ...      \n",
      "3           1               1           0            1   ...      \n",
      "4           1               2           0            2   ...      \n",
      "\n",
      "   t2_towerKills  t2_inhibitorKills  t2_baronKills  t2_dragonKills  \\\n",
      "0              9                  2              1               3   \n",
      "1             10                  2              1               1   \n",
      "2              5                  1              0               0   \n",
      "3              1                  0              0               0   \n",
      "4             11                  3              0               2   \n",
      "\n",
      "   t2_riftHeraldKills  t2_ban1  t2_ban2  t2_ban3  t2_ban4  t2_ban5  \n",
      "0                   1      516       75      119      238      157  \n",
      "1                   0      429      117       29       31      119  \n",
      "2                   0      238       29      122      157       40  \n",
      "3                   0      114       40      122      157       60  \n",
      "4                   0      497      131      122       40       24  \n",
      "\n",
      "[5 rows x 61 columns]\n",
      "       gameId   creationTime  gameDuration  seasonId  winner  firstBlood  \\\n",
      "0  3253924647  1499379187998          1738         9       1           2   \n",
      "1  3319487559  1503785484682          2319         9       2           1   \n",
      "2  3327716614  1504380800980          2112         9       2           2   \n",
      "3  3328783843  1504456357194          1711         9       1           1   \n",
      "4  3324611514  1504180688201          1903         9       2           2   \n",
      "\n",
      "   firstTower  firstInhibitor  firstBaron  firstDragon   ...     \\\n",
      "0           1               1           0            1   ...      \n",
      "1           1               2           1            1   ...      \n",
      "2           2               2           0            1   ...      \n",
      "3           1               1           1            1   ...      \n",
      "4           1               0           2            1   ...      \n",
      "\n",
      "   t2_towerKills  t2_inhibitorKills  t2_baronKills  t2_dragonKills  \\\n",
      "0              4                  0              0               1   \n",
      "1              9                  2              1               1   \n",
      "2              9                  1              0               2   \n",
      "3              1                  0              0               0   \n",
      "4              5                  0              1               1   \n",
      "\n",
      "   t2_riftHeraldKills  t2_ban1  t2_ban2  t2_ban3  t2_ban4  t2_ban5  \n",
      "0                   0      154       61       31       68      412  \n",
      "1                   1       57       40       18      516      121  \n",
      "2                   1       31       11       80       90       18  \n",
      "3                   0       75       31       11       57       42  \n",
      "4                   0       29      122      114      238      134  \n",
      "\n",
      "[5 rows x 61 columns]\n"
     ]
    }
   ],
   "source": [
    "nasus = pd.read_csv('nasus.csv')\n",
    "print(nasus.head())\n",
    "teemo = pd.read_csv('teemo.csv')\n",
    "print(teemo.head())\n",
    "# nasus > teemo\n",
    "#H0 = teemo\n",
    "#H1 > teemo\n",
    "#2 sample with 1 tail"
   ]
  },
  {
   "cell_type": "code",
   "execution_count": 43,
   "metadata": {},
   "outputs": [],
   "source": [
    "alpha = 0.05\n",
    "x_bar_nasus = nasus.gameDuration.mean()\n",
    "x_bar_teemo = teemo.gameDuration.mean()\n",
    "sigma_nasus = nasus.gameDuration.std()\n",
    "sigma_teemo = teemo.gameDuration.std()\n",
    "n_nasus = len(nasus.gameDuration)\n",
    "n_teemo = len(teemo.gameDuration)\n",
    "mu_nasus = mu_teemo = 100\n",
    "dof = n_teemo-1"
   ]
  },
  {
   "cell_type": "code",
   "execution_count": 44,
   "metadata": {},
   "outputs": [
    {
     "data": {
      "text/plain": [
       "2.458637079312505"
      ]
     },
     "execution_count": 44,
     "metadata": {},
     "output_type": "execute_result"
    }
   ],
   "source": [
    "t = ((x_bar_nasus-x_bar_teemo) - (mu_nasus-mu_teemo)) / np.sqrt((sigma_nasus**2/n_nasus) + (sigma_teemo**2/n_teemo))\n",
    "t"
   ]
  },
  {
   "cell_type": "code",
   "execution_count": 45,
   "metadata": {},
   "outputs": [
    {
     "data": {
      "text/plain": [
       "0.010460283765653555"
      ]
     },
     "execution_count": 45,
     "metadata": {},
     "output_type": "execute_result"
    }
   ],
   "source": [
    "p_value = 1-stats.t.cdf(t,dof)"
   ]
  },
  {
   "cell_type": "code",
   "execution_count": 46,
   "metadata": {},
   "outputs": [
    {
     "data": {
      "text/plain": [
       "False"
      ]
     },
     "execution_count": 46,
     "metadata": {},
     "output_type": "execute_result"
    }
   ],
   "source": [
    "alpha > p_value"
   ]
  },
  {
   "cell_type": "code",
   "execution_count": null,
   "metadata": {},
   "outputs": [],
   "source": [
    "# reject the null"
   ]
  }
 ],
 "metadata": {
  "celltoolbar": "Slideshow",
  "kernelspec": {
   "display_name": "Python 3",
   "language": "python",
   "name": "python3"
  },
  "language_info": {
   "codemirror_mode": {
    "name": "ipython",
    "version": 3
   },
   "file_extension": ".py",
   "mimetype": "text/x-python",
   "name": "python",
   "nbconvert_exporter": "python",
   "pygments_lexer": "ipython3",
   "version": "3.6.6"
  }
 },
 "nbformat": 4,
 "nbformat_minor": 2
}
