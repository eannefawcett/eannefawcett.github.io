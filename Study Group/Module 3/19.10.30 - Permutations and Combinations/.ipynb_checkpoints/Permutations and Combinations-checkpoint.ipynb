{
 "cells": [
  {
   "cell_type": "markdown",
   "metadata": {},
   "source": [
    "# <center> Permutations and Com-boo-nations"
   ]
  },
  {
   "cell_type": "markdown",
   "metadata": {},
   "source": [
    "<img src='witch.jpg' width=500>"
   ]
  },
  {
   "cell_type": "markdown",
   "metadata": {},
   "source": [
    "A witch is brewing up a wicked concoction and is trying to decide on ingredients. She has 6 different varieties of bat wings and 4 varieties of eyes of newt. If she can only add 3 total ingredients to her brew, how many possible choices of ingredients can she make if she needs to include at least 1 eye of newt?"
   ]
  },
  {
   "cell_type": "code",
   "execution_count": 1,
   "metadata": {},
   "outputs": [],
   "source": [
    "import math\n",
    "def nCr (n,r):\n",
    "    f = math.factorial\n",
    "    return f(n)//f(r)//f(n-r)"
   ]
  },
  {
   "cell_type": "code",
   "execution_count": 2,
   "metadata": {},
   "outputs": [
    {
     "data": {
      "text/plain": [
       "100"
      ]
     },
     "execution_count": 2,
     "metadata": {},
     "output_type": "execute_result"
    }
   ],
   "source": [
    "nCr(4,1)*nCr(6,2) + nCr(4,2)*nCr(6,1) + nCr(4,3)"
   ]
  },
  {
   "cell_type": "code",
   "execution_count": null,
   "metadata": {},
   "outputs": [],
   "source": []
  },
  {
   "cell_type": "code",
   "execution_count": null,
   "metadata": {},
   "outputs": [],
   "source": []
  },
  {
   "cell_type": "code",
   "execution_count": null,
   "metadata": {},
   "outputs": [],
   "source": []
  },
  {
   "cell_type": "code",
   "execution_count": null,
   "metadata": {},
   "outputs": [],
   "source": []
  },
  {
   "cell_type": "code",
   "execution_count": null,
   "metadata": {},
   "outputs": [],
   "source": []
  },
  {
   "cell_type": "code",
   "execution_count": null,
   "metadata": {},
   "outputs": [],
   "source": []
  },
  {
   "cell_type": "code",
   "execution_count": null,
   "metadata": {},
   "outputs": [],
   "source": []
  },
  {
   "cell_type": "markdown",
   "metadata": {},
   "source": [
    "<img src='zombies.png'>"
   ]
  },
  {
   "cell_type": "markdown",
   "metadata": {},
   "source": [
    "A group of 4 ghouls and 5 zombies attempt to line up to take turns feasting on a victim. If two zombies stand close to each other, they will attempt to feast on themselves. With this in mind, how many possible ways can this line of man-eating monsters be arranged?"
   ]
  },
  {
   "cell_type": "code",
   "execution_count": 4,
   "metadata": {},
   "outputs": [
    {
     "data": {
      "text/plain": [
       "2880"
      ]
     },
     "execution_count": 4,
     "metadata": {},
     "output_type": "execute_result"
    }
   ],
   "source": [
    "math.factorial(5) * math.factorial(4)"
   ]
  },
  {
   "cell_type": "code",
   "execution_count": null,
   "metadata": {},
   "outputs": [],
   "source": []
  },
  {
   "cell_type": "code",
   "execution_count": null,
   "metadata": {},
   "outputs": [],
   "source": []
  },
  {
   "cell_type": "code",
   "execution_count": null,
   "metadata": {},
   "outputs": [],
   "source": []
  },
  {
   "cell_type": "code",
   "execution_count": null,
   "metadata": {},
   "outputs": [],
   "source": []
  },
  {
   "cell_type": "markdown",
   "metadata": {},
   "source": [
    "<img src='ghost_party.jpg'>"
   ]
  },
  {
   "cell_type": "markdown",
   "metadata": {},
   "source": [
    "At the annual ghost party, all the guests greet each other by shaking hands. If there are 1000 ghosts at the party and they all shake hands with each other **once**, how many handshakes occur?"
   ]
  },
  {
   "cell_type": "code",
   "execution_count": 5,
   "metadata": {},
   "outputs": [
    {
     "data": {
      "text/plain": [
       "499500.0"
      ]
     },
     "execution_count": 5,
     "metadata": {},
     "output_type": "execute_result"
    }
   ],
   "source": [
    "(1000 * 999) / 2"
   ]
  },
  {
   "cell_type": "code",
   "execution_count": 6,
   "metadata": {},
   "outputs": [
    {
     "data": {
      "text/plain": [
       "499500"
      ]
     },
     "execution_count": 6,
     "metadata": {},
     "output_type": "execute_result"
    }
   ],
   "source": [
    "nCr(1000,2)"
   ]
  },
  {
   "cell_type": "code",
   "execution_count": null,
   "metadata": {},
   "outputs": [],
   "source": []
  },
  {
   "cell_type": "code",
   "execution_count": null,
   "metadata": {},
   "outputs": [],
   "source": []
  },
  {
   "cell_type": "markdown",
   "metadata": {},
   "source": [
    "<img src='monsters.jpg'>"
   ]
  },
  {
   "cell_type": "markdown",
   "metadata": {},
   "source": [
    "You are attending three Halloween parties and need a different costume for each one. Make a **list** of all the possible costume assortments you could have."
   ]
  },
  {
   "cell_type": "code",
   "execution_count": 7,
   "metadata": {},
   "outputs": [
    {
     "data": {
      "text/plain": [
       "['Banshee',\n",
       " 'Basilisk',\n",
       " 'Bats',\n",
       " 'Beast',\n",
       " 'Behemoth',\n",
       " 'Black Cats',\n",
       " 'Bogey Man',\n",
       " 'Bogeyman',\n",
       " 'Bones',\n",
       " 'Corpse',\n",
       " 'Creature',\n",
       " 'Crow',\n",
       " 'Cyclops',\n",
       " 'Darkness',\n",
       " 'Death',\n",
       " 'Demon',\n",
       " 'Devil',\n",
       " 'Devil Incarnate',\n",
       " 'Djinn',\n",
       " 'Dracula',\n",
       " 'Dragon',\n",
       " 'Elf',\n",
       " 'Evil Spirits',\n",
       " 'Eye Of Newt',\n",
       " 'Fire-Breathing Dragon',\n",
       " 'Frankenstein’s Monster',\n",
       " 'Freak',\n",
       " 'Gargoyle',\n",
       " 'Genii',\n",
       " 'Ghost',\n",
       " 'Ghoul',\n",
       " 'Giant',\n",
       " 'Gnome',\n",
       " 'Goblin',\n",
       " 'Godzilla',\n",
       " 'Golum',\n",
       " 'Gorgon',\n",
       " 'Grave Robber',\n",
       " 'Graveyard Ghost',\n",
       " 'Hag',\n",
       " 'Harpy',\n",
       " 'Headless Horseman',\n",
       " 'Hellhound',\n",
       " 'Hobgoblin',\n",
       " 'Hydra',\n",
       " 'Imp',\n",
       " 'Jack-O-Lantern',\n",
       " 'Japanese Dragon',\n",
       " 'Jason',\n",
       " 'Jinn',\n",
       " 'Kelpie',\n",
       " 'Lake Spirit',\n",
       " 'Leprechaun',\n",
       " 'Leviathan',\n",
       " 'Lightening Monster',\n",
       " 'Little People',\n",
       " 'Loch Ness Monster',\n",
       " 'Masked Zombie Criminal',\n",
       " 'Medusa',\n",
       " 'Mermaid',\n",
       " 'Merman',\n",
       " 'Monster',\n",
       " 'Mummy',\n",
       " 'Nessie',\n",
       " 'Freddy Krueger',\n",
       " 'Nymph',\n",
       " 'Occultist',\n",
       " 'Ogre',\n",
       " 'Ominable Snowman',\n",
       " 'Orc',\n",
       " 'Ghost Owl',\n",
       " 'Pegasus',\n",
       " 'Phantom',\n",
       " 'Phoenix',\n",
       " 'Poltergeist',\n",
       " 'Prankster',\n",
       " 'Pumpkinhead',\n",
       " 'Rain Bird',\n",
       " 'Raven',\n",
       " 'Raven Spirit',\n",
       " 'Savage',\n",
       " 'Scarecrow',\n",
       " 'Scaredy Cat',\n",
       " 'Sea Monster',\n",
       " 'Shapeshifter',\n",
       " 'Siren',\n",
       " 'Skeleton',\n",
       " 'Skulls',\n",
       " 'Sorceress',\n",
       " 'Specter',\n",
       " 'Spider',\n",
       " 'Spirit',\n",
       " 'Sprite',\n",
       " 'Swamp Monster',\n",
       " 'The Dead',\n",
       " 'The Supernatural',\n",
       " 'The Undead',\n",
       " 'Titan',\n",
       " 'Transylvanian Monster',\n",
       " 'Tree Nymph',\n",
       " 'Troll',\n",
       " 'Undead',\n",
       " 'Undead Unicorn',\n",
       " 'Unicorn',\n",
       " 'Vampire',\n",
       " 'Werewolf',\n",
       " 'Witch',\n",
       " 'Wolfman',\n",
       " 'Worms',\n",
       " 'Wretch',\n",
       " 'Yeti',\n",
       " 'Zombie',\n",
       " 'Zombie Abominable Snowman',\n",
       " 'Banshee',\n",
       " 'Basilisk',\n",
       " 'Bats',\n",
       " 'Beast',\n",
       " 'Behemoth',\n",
       " 'Black Cats',\n",
       " 'Bogey Man',\n",
       " 'Bogeyman',\n",
       " 'Bones',\n",
       " 'Corpse',\n",
       " 'Creature',\n",
       " 'Crow',\n",
       " 'Cyclops',\n",
       " 'Darkness',\n",
       " 'Death',\n",
       " 'Demon',\n",
       " 'Devil',\n",
       " 'Devil Incarnate',\n",
       " 'Djinn',\n",
       " 'Dracula',\n",
       " 'Dragon',\n",
       " 'Elf',\n",
       " 'Evil Spirits',\n",
       " 'Eye Of Newt',\n",
       " 'Fire-Breathing Dragon',\n",
       " 'Frankenstein’s Monster',\n",
       " 'Freak',\n",
       " 'Gargoyle',\n",
       " 'Genii',\n",
       " 'Ghost',\n",
       " 'Ghoul',\n",
       " 'Giant',\n",
       " 'Gnome',\n",
       " 'Goblin',\n",
       " 'Godzilla',\n",
       " 'Golum',\n",
       " 'Gorgon',\n",
       " 'Grave Robber',\n",
       " 'Graveyard Ghost',\n",
       " 'Hag',\n",
       " 'Harpy',\n",
       " 'Headless Horseman',\n",
       " 'Hellhound',\n",
       " 'Hobgoblin',\n",
       " 'Hydra',\n",
       " 'Imp',\n",
       " 'Jack-O-Lantern',\n",
       " 'Japanese Dragon',\n",
       " 'Jason',\n",
       " 'Jinn',\n",
       " 'Kelpie',\n",
       " 'Lake Spirit',\n",
       " 'Leprechaun',\n",
       " 'Leviathan',\n",
       " 'Lightening Monster',\n",
       " 'Little People',\n",
       " 'Loch Ness Monster',\n",
       " 'Masked Zombie Criminal',\n",
       " 'Medusa',\n",
       " 'Mermaid',\n",
       " 'Merman',\n",
       " 'Monster',\n",
       " 'Mummy',\n",
       " 'Nessie',\n",
       " 'Freddy Krueger',\n",
       " 'Nymph',\n",
       " 'Occultist',\n",
       " 'Ogre',\n",
       " 'Ominable Snowman',\n",
       " 'Orc',\n",
       " 'Ghost Owl',\n",
       " 'Pegasus',\n",
       " 'Phantom',\n",
       " 'Phoenix',\n",
       " 'Poltergeist',\n",
       " 'Prankster',\n",
       " 'Pumpkinhead',\n",
       " 'Rain Bird',\n",
       " 'Raven',\n",
       " 'Raven Spirit',\n",
       " 'Savage',\n",
       " 'Scarecrow',\n",
       " 'Scaredy Cat',\n",
       " 'Sea Monster',\n",
       " 'Shapeshifter',\n",
       " 'Siren',\n",
       " 'Skeleton',\n",
       " 'Skulls',\n",
       " 'Sorceress',\n",
       " 'Specter',\n",
       " 'Spider',\n",
       " 'Spirit',\n",
       " 'Sprite',\n",
       " 'Swamp Monster',\n",
       " 'The Dead',\n",
       " 'The Supernatural',\n",
       " 'The Undead',\n",
       " 'Titan',\n",
       " 'Transylvanian Monster',\n",
       " 'Tree Nymph',\n",
       " 'Troll',\n",
       " 'Undead',\n",
       " 'Undead Unicorn',\n",
       " 'Unicorn',\n",
       " 'Vampire',\n",
       " 'Werewolf',\n",
       " 'Witch',\n",
       " 'Wolfman',\n",
       " 'Worms',\n",
       " 'Wretch',\n",
       " 'Yeti',\n",
       " 'Zombie',\n",
       " 'Zombie Abominable Snowman']"
      ]
     },
     "execution_count": 7,
     "metadata": {},
     "output_type": "execute_result"
    }
   ],
   "source": [
    "import pandas as pd\n",
    "monsters = list(pd.read_csv('monsters.csv')['Monsters'])\n",
    "monsters"
   ]
  },
  {
   "cell_type": "code",
   "execution_count": 8,
   "metadata": {},
   "outputs": [
    {
     "data": {
      "text/plain": [
       "226"
      ]
     },
     "execution_count": 8,
     "metadata": {},
     "output_type": "execute_result"
    }
   ],
   "source": [
    "len(monsters)"
   ]
  },
  {
   "cell_type": "code",
   "execution_count": 9,
   "metadata": {},
   "outputs": [
    {
     "data": {
      "text/plain": [
       "1898400"
      ]
     },
     "execution_count": 9,
     "metadata": {},
     "output_type": "execute_result"
    }
   ],
   "source": [
    "nCr(226,3)"
   ]
  },
  {
   "cell_type": "code",
   "execution_count": 10,
   "metadata": {},
   "outputs": [],
   "source": [
    "from itertools import combinations"
   ]
  },
  {
   "cell_type": "code",
   "execution_count": 13,
   "metadata": {},
   "outputs": [],
   "source": [
    "options = [x for x in combinations(monsters,3)]"
   ]
  },
  {
   "cell_type": "code",
   "execution_count": null,
   "metadata": {},
   "outputs": [],
   "source": []
  }
 ],
 "metadata": {
  "kernelspec": {
   "display_name": "Python 3",
   "language": "python",
   "name": "python3"
  },
  "language_info": {
   "codemirror_mode": {
    "name": "ipython",
    "version": 3
   },
   "file_extension": ".py",
   "mimetype": "text/x-python",
   "name": "python",
   "nbconvert_exporter": "python",
   "pygments_lexer": "ipython3",
   "version": "3.7.4"
  }
 },
 "nbformat": 4,
 "nbformat_minor": 2
}
